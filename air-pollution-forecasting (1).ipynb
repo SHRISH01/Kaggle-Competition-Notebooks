{
 "cells": [
  {
   "cell_type": "markdown",
   "id": "c6137106",
   "metadata": {
    "papermill": {
     "duration": 0.005955,
     "end_time": "2024-12-25T19:10:09.048778",
     "exception": false,
     "start_time": "2024-12-25T19:10:09.042823",
     "status": "completed"
    },
    "tags": []
   },
   "source": [
    "\n",
    "# Air Pollution Forecasting\n",
    "\n",
    "\n",
    "## THE MISSION\n",
    "\n",
    "The story behind the dataset is how to apply LSTM architecture to understand and apply multiple variables together to contribute more accuracy towards forecasting.\n",
    "\n",
    "## THE CONTENT\n",
    "\n",
    "This is a dataset that reports on the weather and the level of pollution each hour for five years at the US embassy in Beijing, China.\n",
    "\n",
    "The data includes the date-time, the pollution called PM2.5 concentration, and the weather information including dew point, temperature, pressure, wind direction, wind speed and the cumulative number of hours of snow and rain. \n",
    "\n",
    "**The complete feature list in the raw data is as follows:**\n",
    "\n",
    "**year :** year of data in this row\n",
    "\n",
    "**month:** month of data in this row\n",
    "\n",
    "**day:** day of data in this row\n",
    "\n",
    "\n",
    "**hour :** hour of data in this row\n",
    "\n",
    "**pm2.5 :** PM2.5 concentration\n",
    "\n",
    "**DEWP:** Dew Point\n",
    "\n",
    "**TEMP:** Temperature\n",
    "\n",
    "**PRES:** Pressure\n",
    "\n",
    "**Iws:** Cumulated wind speed\n",
    "\n",
    "**Is:** Cumulated hours of snow\n",
    "\n",
    "**Ir:** Cumulated hours of rain"
   ]
  },
  {
   "cell_type": "markdown",
   "id": "17665946",
   "metadata": {
    "papermill": {
     "duration": 0.00475,
     "end_time": "2024-12-25T19:10:09.058680",
     "exception": false,
     "start_time": "2024-12-25T19:10:09.053930",
     "status": "completed"
    },
    "tags": []
   },
   "source": [
    "## Importing the necessary libraries"
   ]
  },
  {
   "cell_type": "code",
   "execution_count": 1,
   "id": "1984d01d",
   "metadata": {
    "execution": {
     "iopub.execute_input": "2024-12-25T19:10:09.069728Z",
     "iopub.status.busy": "2024-12-25T19:10:09.069397Z",
     "iopub.status.idle": "2024-12-25T19:10:21.412543Z",
     "shell.execute_reply": "2024-12-25T19:10:21.411308Z"
    },
    "papermill": {
     "duration": 12.351017,
     "end_time": "2024-12-25T19:10:21.414466",
     "exception": false,
     "start_time": "2024-12-25T19:10:09.063449",
     "status": "completed"
    },
    "tags": []
   },
   "outputs": [],
   "source": [
    "import pandas as pd\n",
    "import numpy as np\n",
    "from sklearn.preprocessing import MinMaxScaler\n",
    "from tensorflow.keras.models import Sequential\n",
    "from tensorflow.keras.layers import LSTM, Bidirectional, Dense\n",
    "from sklearn.model_selection import train_test_split\n",
    "import matplotlib.pyplot as plt\n",
    "from keras.callbacks import TensorBoard\n",
    "import os"
   ]
  },
  {
   "cell_type": "markdown",
   "id": "727714d5",
   "metadata": {
    "papermill": {
     "duration": 0.005231,
     "end_time": "2024-12-25T19:10:21.425570",
     "exception": false,
     "start_time": "2024-12-25T19:10:21.420339",
     "status": "completed"
    },
    "tags": []
   },
   "source": [
    "## Reading the dataset"
   ]
  },
  {
   "cell_type": "code",
   "execution_count": 2,
   "id": "a873408a",
   "metadata": {
    "execution": {
     "iopub.execute_input": "2024-12-25T19:10:21.437095Z",
     "iopub.status.busy": "2024-12-25T19:10:21.436461Z",
     "iopub.status.idle": "2024-12-25T19:10:21.594349Z",
     "shell.execute_reply": "2024-12-25T19:10:21.593250Z"
    },
    "papermill": {
     "duration": 0.165539,
     "end_time": "2024-12-25T19:10:21.596055",
     "exception": false,
     "start_time": "2024-12-25T19:10:21.430516",
     "status": "completed"
    },
    "tags": []
   },
   "outputs": [
    {
     "data": {
      "text/html": [
       "<div>\n",
       "<style scoped>\n",
       "    .dataframe tbody tr th:only-of-type {\n",
       "        vertical-align: middle;\n",
       "    }\n",
       "\n",
       "    .dataframe tbody tr th {\n",
       "        vertical-align: top;\n",
       "    }\n",
       "\n",
       "    .dataframe thead th {\n",
       "        text-align: right;\n",
       "    }\n",
       "</style>\n",
       "<table border=\"1\" class=\"dataframe\">\n",
       "  <thead>\n",
       "    <tr style=\"text-align: right;\">\n",
       "      <th></th>\n",
       "      <th>date</th>\n",
       "      <th>pollution</th>\n",
       "      <th>dew</th>\n",
       "      <th>temp</th>\n",
       "      <th>press</th>\n",
       "      <th>wnd_dir</th>\n",
       "      <th>wnd_spd</th>\n",
       "      <th>snow</th>\n",
       "      <th>rain</th>\n",
       "    </tr>\n",
       "  </thead>\n",
       "  <tbody>\n",
       "    <tr>\n",
       "      <th>0</th>\n",
       "      <td>2010-01-02 00:00:00</td>\n",
       "      <td>129.0</td>\n",
       "      <td>-16</td>\n",
       "      <td>-4.0</td>\n",
       "      <td>1020.0</td>\n",
       "      <td>SE</td>\n",
       "      <td>1.79</td>\n",
       "      <td>0</td>\n",
       "      <td>0</td>\n",
       "    </tr>\n",
       "    <tr>\n",
       "      <th>1</th>\n",
       "      <td>2010-01-02 01:00:00</td>\n",
       "      <td>148.0</td>\n",
       "      <td>-15</td>\n",
       "      <td>-4.0</td>\n",
       "      <td>1020.0</td>\n",
       "      <td>SE</td>\n",
       "      <td>2.68</td>\n",
       "      <td>0</td>\n",
       "      <td>0</td>\n",
       "    </tr>\n",
       "    <tr>\n",
       "      <th>2</th>\n",
       "      <td>2010-01-02 02:00:00</td>\n",
       "      <td>159.0</td>\n",
       "      <td>-11</td>\n",
       "      <td>-5.0</td>\n",
       "      <td>1021.0</td>\n",
       "      <td>SE</td>\n",
       "      <td>3.57</td>\n",
       "      <td>0</td>\n",
       "      <td>0</td>\n",
       "    </tr>\n",
       "    <tr>\n",
       "      <th>3</th>\n",
       "      <td>2010-01-02 03:00:00</td>\n",
       "      <td>181.0</td>\n",
       "      <td>-7</td>\n",
       "      <td>-5.0</td>\n",
       "      <td>1022.0</td>\n",
       "      <td>SE</td>\n",
       "      <td>5.36</td>\n",
       "      <td>1</td>\n",
       "      <td>0</td>\n",
       "    </tr>\n",
       "    <tr>\n",
       "      <th>4</th>\n",
       "      <td>2010-01-02 04:00:00</td>\n",
       "      <td>138.0</td>\n",
       "      <td>-7</td>\n",
       "      <td>-5.0</td>\n",
       "      <td>1022.0</td>\n",
       "      <td>SE</td>\n",
       "      <td>6.25</td>\n",
       "      <td>2</td>\n",
       "      <td>0</td>\n",
       "    </tr>\n",
       "  </tbody>\n",
       "</table>\n",
       "</div>"
      ],
      "text/plain": [
       "                  date  pollution  dew  temp   press wnd_dir  wnd_spd  snow  \\\n",
       "0  2010-01-02 00:00:00      129.0  -16  -4.0  1020.0      SE     1.79     0   \n",
       "1  2010-01-02 01:00:00      148.0  -15  -4.0  1020.0      SE     2.68     0   \n",
       "2  2010-01-02 02:00:00      159.0  -11  -5.0  1021.0      SE     3.57     0   \n",
       "3  2010-01-02 03:00:00      181.0   -7  -5.0  1022.0      SE     5.36     1   \n",
       "4  2010-01-02 04:00:00      138.0   -7  -5.0  1022.0      SE     6.25     2   \n",
       "\n",
       "   rain  \n",
       "0     0  \n",
       "1     0  \n",
       "2     0  \n",
       "3     0  \n",
       "4     0  "
      ]
     },
     "execution_count": 2,
     "metadata": {},
     "output_type": "execute_result"
    }
   ],
   "source": [
    "data = pd.read_csv(\"/kaggle/input/lstm-datasets-multivariate-univariate/LSTM-Multivariate_pollution.csv\")\n",
    "test_data = pd.read_csv(\"/kaggle/input/lstm-datasets-multivariate-univariate/pollution_test_data1.csv\")\n",
    "data.head()"
   ]
  },
  {
   "cell_type": "markdown",
   "id": "4166a036",
   "metadata": {
    "papermill": {
     "duration": 0.005056,
     "end_time": "2024-12-25T19:10:21.606687",
     "exception": false,
     "start_time": "2024-12-25T19:10:21.601631",
     "status": "completed"
    },
    "tags": []
   },
   "source": [
    "## Basic Statistics"
   ]
  },
  {
   "cell_type": "code",
   "execution_count": 3,
   "id": "eed5fc46",
   "metadata": {
    "execution": {
     "iopub.execute_input": "2024-12-25T19:10:21.618187Z",
     "iopub.status.busy": "2024-12-25T19:10:21.617798Z",
     "iopub.status.idle": "2024-12-25T19:10:21.623453Z",
     "shell.execute_reply": "2024-12-25T19:10:21.622501Z"
    },
    "papermill": {
     "duration": 0.013128,
     "end_time": "2024-12-25T19:10:21.624978",
     "exception": false,
     "start_time": "2024-12-25T19:10:21.611850",
     "status": "completed"
    },
    "tags": []
   },
   "outputs": [
    {
     "data": {
      "text/plain": [
       "(43800, 9)"
      ]
     },
     "execution_count": 3,
     "metadata": {},
     "output_type": "execute_result"
    }
   ],
   "source": [
    "data.shape"
   ]
  },
  {
   "cell_type": "code",
   "execution_count": 4,
   "id": "5ea4ba5b",
   "metadata": {
    "execution": {
     "iopub.execute_input": "2024-12-25T19:10:21.637142Z",
     "iopub.status.busy": "2024-12-25T19:10:21.636768Z",
     "iopub.status.idle": "2024-12-25T19:10:21.719736Z",
     "shell.execute_reply": "2024-12-25T19:10:21.718676Z"
    },
    "papermill": {
     "duration": 0.09085,
     "end_time": "2024-12-25T19:10:21.721391",
     "exception": false,
     "start_time": "2024-12-25T19:10:21.630541",
     "status": "completed"
    },
    "tags": []
   },
   "outputs": [
    {
     "data": {
      "text/html": [
       "<div>\n",
       "<style scoped>\n",
       "    .dataframe tbody tr th:only-of-type {\n",
       "        vertical-align: middle;\n",
       "    }\n",
       "\n",
       "    .dataframe tbody tr th {\n",
       "        vertical-align: top;\n",
       "    }\n",
       "\n",
       "    .dataframe thead th {\n",
       "        text-align: right;\n",
       "    }\n",
       "</style>\n",
       "<table border=\"1\" class=\"dataframe\">\n",
       "  <thead>\n",
       "    <tr style=\"text-align: right;\">\n",
       "      <th></th>\n",
       "      <th>date</th>\n",
       "      <th>pollution</th>\n",
       "      <th>dew</th>\n",
       "      <th>temp</th>\n",
       "      <th>press</th>\n",
       "      <th>wnd_dir</th>\n",
       "      <th>wnd_spd</th>\n",
       "      <th>snow</th>\n",
       "      <th>rain</th>\n",
       "    </tr>\n",
       "  </thead>\n",
       "  <tbody>\n",
       "    <tr>\n",
       "      <th>count</th>\n",
       "      <td>43800</td>\n",
       "      <td>43800.000000</td>\n",
       "      <td>43800.000000</td>\n",
       "      <td>43800.000000</td>\n",
       "      <td>43800.000000</td>\n",
       "      <td>43800</td>\n",
       "      <td>43800.000000</td>\n",
       "      <td>43800.000000</td>\n",
       "      <td>43800.000000</td>\n",
       "    </tr>\n",
       "    <tr>\n",
       "      <th>unique</th>\n",
       "      <td>43800</td>\n",
       "      <td>NaN</td>\n",
       "      <td>NaN</td>\n",
       "      <td>NaN</td>\n",
       "      <td>NaN</td>\n",
       "      <td>4</td>\n",
       "      <td>NaN</td>\n",
       "      <td>NaN</td>\n",
       "      <td>NaN</td>\n",
       "    </tr>\n",
       "    <tr>\n",
       "      <th>top</th>\n",
       "      <td>2010-01-02 00:00:00</td>\n",
       "      <td>NaN</td>\n",
       "      <td>NaN</td>\n",
       "      <td>NaN</td>\n",
       "      <td>NaN</td>\n",
       "      <td>SE</td>\n",
       "      <td>NaN</td>\n",
       "      <td>NaN</td>\n",
       "      <td>NaN</td>\n",
       "    </tr>\n",
       "    <tr>\n",
       "      <th>freq</th>\n",
       "      <td>1</td>\n",
       "      <td>NaN</td>\n",
       "      <td>NaN</td>\n",
       "      <td>NaN</td>\n",
       "      <td>NaN</td>\n",
       "      <td>15290</td>\n",
       "      <td>NaN</td>\n",
       "      <td>NaN</td>\n",
       "      <td>NaN</td>\n",
       "    </tr>\n",
       "    <tr>\n",
       "      <th>mean</th>\n",
       "      <td>NaN</td>\n",
       "      <td>94.013516</td>\n",
       "      <td>1.828516</td>\n",
       "      <td>12.459041</td>\n",
       "      <td>1016.447306</td>\n",
       "      <td>NaN</td>\n",
       "      <td>23.894307</td>\n",
       "      <td>0.052763</td>\n",
       "      <td>0.195023</td>\n",
       "    </tr>\n",
       "    <tr>\n",
       "      <th>std</th>\n",
       "      <td>NaN</td>\n",
       "      <td>92.252276</td>\n",
       "      <td>14.429326</td>\n",
       "      <td>12.193384</td>\n",
       "      <td>10.271411</td>\n",
       "      <td>NaN</td>\n",
       "      <td>50.022729</td>\n",
       "      <td>0.760582</td>\n",
       "      <td>1.416247</td>\n",
       "    </tr>\n",
       "    <tr>\n",
       "      <th>min</th>\n",
       "      <td>NaN</td>\n",
       "      <td>0.000000</td>\n",
       "      <td>-40.000000</td>\n",
       "      <td>-19.000000</td>\n",
       "      <td>991.000000</td>\n",
       "      <td>NaN</td>\n",
       "      <td>0.450000</td>\n",
       "      <td>0.000000</td>\n",
       "      <td>0.000000</td>\n",
       "    </tr>\n",
       "    <tr>\n",
       "      <th>25%</th>\n",
       "      <td>NaN</td>\n",
       "      <td>24.000000</td>\n",
       "      <td>-10.000000</td>\n",
       "      <td>2.000000</td>\n",
       "      <td>1008.000000</td>\n",
       "      <td>NaN</td>\n",
       "      <td>1.790000</td>\n",
       "      <td>0.000000</td>\n",
       "      <td>0.000000</td>\n",
       "    </tr>\n",
       "    <tr>\n",
       "      <th>50%</th>\n",
       "      <td>NaN</td>\n",
       "      <td>68.000000</td>\n",
       "      <td>2.000000</td>\n",
       "      <td>14.000000</td>\n",
       "      <td>1016.000000</td>\n",
       "      <td>NaN</td>\n",
       "      <td>5.370000</td>\n",
       "      <td>0.000000</td>\n",
       "      <td>0.000000</td>\n",
       "    </tr>\n",
       "    <tr>\n",
       "      <th>75%</th>\n",
       "      <td>NaN</td>\n",
       "      <td>132.250000</td>\n",
       "      <td>15.000000</td>\n",
       "      <td>23.000000</td>\n",
       "      <td>1025.000000</td>\n",
       "      <td>NaN</td>\n",
       "      <td>21.910000</td>\n",
       "      <td>0.000000</td>\n",
       "      <td>0.000000</td>\n",
       "    </tr>\n",
       "    <tr>\n",
       "      <th>max</th>\n",
       "      <td>NaN</td>\n",
       "      <td>994.000000</td>\n",
       "      <td>28.000000</td>\n",
       "      <td>42.000000</td>\n",
       "      <td>1046.000000</td>\n",
       "      <td>NaN</td>\n",
       "      <td>585.600000</td>\n",
       "      <td>27.000000</td>\n",
       "      <td>36.000000</td>\n",
       "    </tr>\n",
       "  </tbody>\n",
       "</table>\n",
       "</div>"
      ],
      "text/plain": [
       "                       date     pollution           dew          temp  \\\n",
       "count                 43800  43800.000000  43800.000000  43800.000000   \n",
       "unique                43800           NaN           NaN           NaN   \n",
       "top     2010-01-02 00:00:00           NaN           NaN           NaN   \n",
       "freq                      1           NaN           NaN           NaN   \n",
       "mean                    NaN     94.013516      1.828516     12.459041   \n",
       "std                     NaN     92.252276     14.429326     12.193384   \n",
       "min                     NaN      0.000000    -40.000000    -19.000000   \n",
       "25%                     NaN     24.000000    -10.000000      2.000000   \n",
       "50%                     NaN     68.000000      2.000000     14.000000   \n",
       "75%                     NaN    132.250000     15.000000     23.000000   \n",
       "max                     NaN    994.000000     28.000000     42.000000   \n",
       "\n",
       "               press wnd_dir       wnd_spd          snow          rain  \n",
       "count   43800.000000   43800  43800.000000  43800.000000  43800.000000  \n",
       "unique           NaN       4           NaN           NaN           NaN  \n",
       "top              NaN      SE           NaN           NaN           NaN  \n",
       "freq             NaN   15290           NaN           NaN           NaN  \n",
       "mean     1016.447306     NaN     23.894307      0.052763      0.195023  \n",
       "std        10.271411     NaN     50.022729      0.760582      1.416247  \n",
       "min       991.000000     NaN      0.450000      0.000000      0.000000  \n",
       "25%      1008.000000     NaN      1.790000      0.000000      0.000000  \n",
       "50%      1016.000000     NaN      5.370000      0.000000      0.000000  \n",
       "75%      1025.000000     NaN     21.910000      0.000000      0.000000  \n",
       "max      1046.000000     NaN    585.600000     27.000000     36.000000  "
      ]
     },
     "execution_count": 4,
     "metadata": {},
     "output_type": "execute_result"
    }
   ],
   "source": [
    "data.describe(include='all')"
   ]
  },
  {
   "cell_type": "code",
   "execution_count": 5,
   "id": "e1bc1f61",
   "metadata": {
    "execution": {
     "iopub.execute_input": "2024-12-25T19:10:21.734348Z",
     "iopub.status.busy": "2024-12-25T19:10:21.733911Z",
     "iopub.status.idle": "2024-12-25T19:10:21.755479Z",
     "shell.execute_reply": "2024-12-25T19:10:21.754291Z"
    },
    "papermill": {
     "duration": 0.029797,
     "end_time": "2024-12-25T19:10:21.757066",
     "exception": false,
     "start_time": "2024-12-25T19:10:21.727269",
     "status": "completed"
    },
    "tags": []
   },
   "outputs": [
    {
     "name": "stdout",
     "output_type": "stream",
     "text": [
      "<class 'pandas.core.frame.DataFrame'>\n",
      "RangeIndex: 43800 entries, 0 to 43799\n",
      "Data columns (total 9 columns):\n",
      " #   Column     Non-Null Count  Dtype  \n",
      "---  ------     --------------  -----  \n",
      " 0   date       43800 non-null  object \n",
      " 1   pollution  43800 non-null  float64\n",
      " 2   dew        43800 non-null  int64  \n",
      " 3   temp       43800 non-null  float64\n",
      " 4   press      43800 non-null  float64\n",
      " 5   wnd_dir    43800 non-null  object \n",
      " 6   wnd_spd    43800 non-null  float64\n",
      " 7   snow       43800 non-null  int64  \n",
      " 8   rain       43800 non-null  int64  \n",
      "dtypes: float64(4), int64(3), object(2)\n",
      "memory usage: 3.0+ MB\n"
     ]
    }
   ],
   "source": [
    "data.info()"
   ]
  },
  {
   "cell_type": "markdown",
   "id": "94ec46af",
   "metadata": {
    "papermill": {
     "duration": 0.005682,
     "end_time": "2024-12-25T19:10:21.768528",
     "exception": false,
     "start_time": "2024-12-25T19:10:21.762846",
     "status": "completed"
    },
    "tags": []
   },
   "source": [
    "There are no null values - *we can go ahead with our data preprocessing*"
   ]
  },
  {
   "cell_type": "markdown",
   "id": "f5194b85",
   "metadata": {
    "papermill": {
     "duration": 0.005329,
     "end_time": "2024-12-25T19:10:21.779480",
     "exception": false,
     "start_time": "2024-12-25T19:10:21.774151",
     "status": "completed"
    },
    "tags": []
   },
   "source": [
    "## Data Preprocessing"
   ]
  },
  {
   "cell_type": "code",
   "execution_count": 6,
   "id": "49a8729e",
   "metadata": {
    "execution": {
     "iopub.execute_input": "2024-12-25T19:10:21.792191Z",
     "iopub.status.busy": "2024-12-25T19:10:21.791816Z",
     "iopub.status.idle": "2024-12-25T19:10:21.800917Z",
     "shell.execute_reply": "2024-12-25T19:10:21.799780Z"
    },
    "papermill": {
     "duration": 0.01744,
     "end_time": "2024-12-25T19:10:21.802511",
     "exception": false,
     "start_time": "2024-12-25T19:10:21.785071",
     "status": "completed"
    },
    "tags": []
   },
   "outputs": [
    {
     "name": "stdout",
     "output_type": "stream",
     "text": [
      "['SE' 'cv' 'NW' 'NE']\n"
     ]
    }
   ],
   "source": [
    "unique_values = data['wnd_dir'].unique()\n",
    "print(unique_values)"
   ]
  },
  {
   "cell_type": "code",
   "execution_count": 7,
   "id": "0fcc7edb",
   "metadata": {
    "execution": {
     "iopub.execute_input": "2024-12-25T19:10:21.815442Z",
     "iopub.status.busy": "2024-12-25T19:10:21.815049Z",
     "iopub.status.idle": "2024-12-25T19:10:21.819625Z",
     "shell.execute_reply": "2024-12-25T19:10:21.818546Z"
    },
    "papermill": {
     "duration": 0.012753,
     "end_time": "2024-12-25T19:10:21.821189",
     "exception": false,
     "start_time": "2024-12-25T19:10:21.808436",
     "status": "completed"
    },
    "tags": []
   },
   "outputs": [
    {
     "name": "stdout",
     "output_type": "stream",
     "text": [
      "{'SE': 0, 'cv': 1, 'NW': 2, 'NE': 3}\n"
     ]
    }
   ],
   "source": [
    "mapping = {value: idx for idx, value in enumerate(unique_values)}\n",
    "print(mapping)"
   ]
  },
  {
   "cell_type": "code",
   "execution_count": 8,
   "id": "c549123d",
   "metadata": {
    "execution": {
     "iopub.execute_input": "2024-12-25T19:10:21.834186Z",
     "iopub.status.busy": "2024-12-25T19:10:21.833822Z",
     "iopub.status.idle": "2024-12-25T19:10:21.842714Z",
     "shell.execute_reply": "2024-12-25T19:10:21.841667Z"
    },
    "papermill": {
     "duration": 0.017253,
     "end_time": "2024-12-25T19:10:21.844329",
     "exception": false,
     "start_time": "2024-12-25T19:10:21.827076",
     "status": "completed"
    },
    "tags": []
   },
   "outputs": [],
   "source": [
    "data['wnd_dir'] = data['wnd_dir'].map(mapping)"
   ]
  },
  {
   "cell_type": "code",
   "execution_count": 9,
   "id": "e2bf0074",
   "metadata": {
    "execution": {
     "iopub.execute_input": "2024-12-25T19:10:21.857326Z",
     "iopub.status.busy": "2024-12-25T19:10:21.856921Z",
     "iopub.status.idle": "2024-12-25T19:10:21.869176Z",
     "shell.execute_reply": "2024-12-25T19:10:21.868315Z"
    },
    "papermill": {
     "duration": 0.020406,
     "end_time": "2024-12-25T19:10:21.870821",
     "exception": false,
     "start_time": "2024-12-25T19:10:21.850415",
     "status": "completed"
    },
    "tags": []
   },
   "outputs": [
    {
     "data": {
      "text/html": [
       "<div>\n",
       "<style scoped>\n",
       "    .dataframe tbody tr th:only-of-type {\n",
       "        vertical-align: middle;\n",
       "    }\n",
       "\n",
       "    .dataframe tbody tr th {\n",
       "        vertical-align: top;\n",
       "    }\n",
       "\n",
       "    .dataframe thead th {\n",
       "        text-align: right;\n",
       "    }\n",
       "</style>\n",
       "<table border=\"1\" class=\"dataframe\">\n",
       "  <thead>\n",
       "    <tr style=\"text-align: right;\">\n",
       "      <th></th>\n",
       "      <th>date</th>\n",
       "      <th>pollution</th>\n",
       "      <th>dew</th>\n",
       "      <th>temp</th>\n",
       "      <th>press</th>\n",
       "      <th>wnd_dir</th>\n",
       "      <th>wnd_spd</th>\n",
       "      <th>snow</th>\n",
       "      <th>rain</th>\n",
       "    </tr>\n",
       "  </thead>\n",
       "  <tbody>\n",
       "    <tr>\n",
       "      <th>0</th>\n",
       "      <td>2010-01-02 00:00:00</td>\n",
       "      <td>129.0</td>\n",
       "      <td>-16</td>\n",
       "      <td>-4.0</td>\n",
       "      <td>1020.0</td>\n",
       "      <td>0</td>\n",
       "      <td>1.79</td>\n",
       "      <td>0</td>\n",
       "      <td>0</td>\n",
       "    </tr>\n",
       "    <tr>\n",
       "      <th>1</th>\n",
       "      <td>2010-01-02 01:00:00</td>\n",
       "      <td>148.0</td>\n",
       "      <td>-15</td>\n",
       "      <td>-4.0</td>\n",
       "      <td>1020.0</td>\n",
       "      <td>0</td>\n",
       "      <td>2.68</td>\n",
       "      <td>0</td>\n",
       "      <td>0</td>\n",
       "    </tr>\n",
       "    <tr>\n",
       "      <th>2</th>\n",
       "      <td>2010-01-02 02:00:00</td>\n",
       "      <td>159.0</td>\n",
       "      <td>-11</td>\n",
       "      <td>-5.0</td>\n",
       "      <td>1021.0</td>\n",
       "      <td>0</td>\n",
       "      <td>3.57</td>\n",
       "      <td>0</td>\n",
       "      <td>0</td>\n",
       "    </tr>\n",
       "    <tr>\n",
       "      <th>3</th>\n",
       "      <td>2010-01-02 03:00:00</td>\n",
       "      <td>181.0</td>\n",
       "      <td>-7</td>\n",
       "      <td>-5.0</td>\n",
       "      <td>1022.0</td>\n",
       "      <td>0</td>\n",
       "      <td>5.36</td>\n",
       "      <td>1</td>\n",
       "      <td>0</td>\n",
       "    </tr>\n",
       "  </tbody>\n",
       "</table>\n",
       "</div>"
      ],
      "text/plain": [
       "                  date  pollution  dew  temp   press  wnd_dir  wnd_spd  snow  \\\n",
       "0  2010-01-02 00:00:00      129.0  -16  -4.0  1020.0        0     1.79     0   \n",
       "1  2010-01-02 01:00:00      148.0  -15  -4.0  1020.0        0     2.68     0   \n",
       "2  2010-01-02 02:00:00      159.0  -11  -5.0  1021.0        0     3.57     0   \n",
       "3  2010-01-02 03:00:00      181.0   -7  -5.0  1022.0        0     5.36     1   \n",
       "\n",
       "   rain  \n",
       "0     0  \n",
       "1     0  \n",
       "2     0  \n",
       "3     0  "
      ]
     },
     "execution_count": 9,
     "metadata": {},
     "output_type": "execute_result"
    }
   ],
   "source": [
    "data.head(4)"
   ]
  },
  {
   "cell_type": "markdown",
   "id": "016046fb",
   "metadata": {
    "papermill": {
     "duration": 0.006025,
     "end_time": "2024-12-25T19:10:21.883110",
     "exception": false,
     "start_time": "2024-12-25T19:10:21.877085",
     "status": "completed"
    },
    "tags": []
   },
   "source": [
    "## Scaling the data"
   ]
  },
  {
   "cell_type": "code",
   "execution_count": 10,
   "id": "ba996275",
   "metadata": {
    "execution": {
     "iopub.execute_input": "2024-12-25T19:10:21.896229Z",
     "iopub.status.busy": "2024-12-25T19:10:21.895835Z",
     "iopub.status.idle": "2024-12-25T19:10:21.928115Z",
     "shell.execute_reply": "2024-12-25T19:10:21.927044Z"
    },
    "papermill": {
     "duration": 0.041098,
     "end_time": "2024-12-25T19:10:21.930157",
     "exception": false,
     "start_time": "2024-12-25T19:10:21.889059",
     "status": "completed"
    },
    "tags": []
   },
   "outputs": [],
   "source": [
    "# Convert the 'date' column to datetime if it's not already\n",
    "data['date'] = pd.to_datetime(data['date'])\n",
    "\n",
    "# Extract relevant features from the 'date' column\n",
    "data['hour'] = data['date'].dt.hour\n",
    "data['day_of_week'] = data['date'].dt.dayofweek\n",
    "data['month'] = data['date'].dt.month\n",
    "data['year'] = data['date'].dt.year\n",
    "data = data.drop(columns=['date'])"
   ]
  },
  {
   "cell_type": "code",
   "execution_count": 11,
   "id": "3489c52c",
   "metadata": {
    "execution": {
     "iopub.execute_input": "2024-12-25T19:10:21.943834Z",
     "iopub.status.busy": "2024-12-25T19:10:21.943508Z",
     "iopub.status.idle": "2024-12-25T19:10:21.961649Z",
     "shell.execute_reply": "2024-12-25T19:10:21.960592Z"
    },
    "papermill": {
     "duration": 0.026904,
     "end_time": "2024-12-25T19:10:21.963446",
     "exception": false,
     "start_time": "2024-12-25T19:10:21.936542",
     "status": "completed"
    },
    "tags": []
   },
   "outputs": [],
   "source": [
    "# Scale numeric columns\n",
    "scaler = MinMaxScaler()\n",
    "data_scaled = scaler.fit_transform(data)"
   ]
  },
  {
   "cell_type": "code",
   "execution_count": 12,
   "id": "dccee1e7",
   "metadata": {
    "execution": {
     "iopub.execute_input": "2024-12-25T19:10:21.977143Z",
     "iopub.status.busy": "2024-12-25T19:10:21.976781Z",
     "iopub.status.idle": "2024-12-25T19:10:21.989865Z",
     "shell.execute_reply": "2024-12-25T19:10:21.988859Z"
    },
    "papermill": {
     "duration": 0.021815,
     "end_time": "2024-12-25T19:10:21.991538",
     "exception": false,
     "start_time": "2024-12-25T19:10:21.969723",
     "status": "completed"
    },
    "tags": []
   },
   "outputs": [
    {
     "data": {
      "text/html": [
       "<div>\n",
       "<style scoped>\n",
       "    .dataframe tbody tr th:only-of-type {\n",
       "        vertical-align: middle;\n",
       "    }\n",
       "\n",
       "    .dataframe tbody tr th {\n",
       "        vertical-align: top;\n",
       "    }\n",
       "\n",
       "    .dataframe thead th {\n",
       "        text-align: right;\n",
       "    }\n",
       "</style>\n",
       "<table border=\"1\" class=\"dataframe\">\n",
       "  <thead>\n",
       "    <tr style=\"text-align: right;\">\n",
       "      <th></th>\n",
       "      <th>pollution</th>\n",
       "      <th>dew</th>\n",
       "      <th>temp</th>\n",
       "      <th>press</th>\n",
       "      <th>wnd_dir</th>\n",
       "      <th>wnd_spd</th>\n",
       "      <th>snow</th>\n",
       "      <th>rain</th>\n",
       "      <th>hour</th>\n",
       "      <th>day_of_week</th>\n",
       "      <th>month</th>\n",
       "      <th>year</th>\n",
       "    </tr>\n",
       "  </thead>\n",
       "  <tbody>\n",
       "    <tr>\n",
       "      <th>0</th>\n",
       "      <td>129.0</td>\n",
       "      <td>-16</td>\n",
       "      <td>-4.0</td>\n",
       "      <td>1020.0</td>\n",
       "      <td>0</td>\n",
       "      <td>1.79</td>\n",
       "      <td>0</td>\n",
       "      <td>0</td>\n",
       "      <td>0</td>\n",
       "      <td>5</td>\n",
       "      <td>1</td>\n",
       "      <td>2010</td>\n",
       "    </tr>\n",
       "    <tr>\n",
       "      <th>1</th>\n",
       "      <td>148.0</td>\n",
       "      <td>-15</td>\n",
       "      <td>-4.0</td>\n",
       "      <td>1020.0</td>\n",
       "      <td>0</td>\n",
       "      <td>2.68</td>\n",
       "      <td>0</td>\n",
       "      <td>0</td>\n",
       "      <td>1</td>\n",
       "      <td>5</td>\n",
       "      <td>1</td>\n",
       "      <td>2010</td>\n",
       "    </tr>\n",
       "    <tr>\n",
       "      <th>2</th>\n",
       "      <td>159.0</td>\n",
       "      <td>-11</td>\n",
       "      <td>-5.0</td>\n",
       "      <td>1021.0</td>\n",
       "      <td>0</td>\n",
       "      <td>3.57</td>\n",
       "      <td>0</td>\n",
       "      <td>0</td>\n",
       "      <td>2</td>\n",
       "      <td>5</td>\n",
       "      <td>1</td>\n",
       "      <td>2010</td>\n",
       "    </tr>\n",
       "    <tr>\n",
       "      <th>3</th>\n",
       "      <td>181.0</td>\n",
       "      <td>-7</td>\n",
       "      <td>-5.0</td>\n",
       "      <td>1022.0</td>\n",
       "      <td>0</td>\n",
       "      <td>5.36</td>\n",
       "      <td>1</td>\n",
       "      <td>0</td>\n",
       "      <td>3</td>\n",
       "      <td>5</td>\n",
       "      <td>1</td>\n",
       "      <td>2010</td>\n",
       "    </tr>\n",
       "    <tr>\n",
       "      <th>4</th>\n",
       "      <td>138.0</td>\n",
       "      <td>-7</td>\n",
       "      <td>-5.0</td>\n",
       "      <td>1022.0</td>\n",
       "      <td>0</td>\n",
       "      <td>6.25</td>\n",
       "      <td>2</td>\n",
       "      <td>0</td>\n",
       "      <td>4</td>\n",
       "      <td>5</td>\n",
       "      <td>1</td>\n",
       "      <td>2010</td>\n",
       "    </tr>\n",
       "  </tbody>\n",
       "</table>\n",
       "</div>"
      ],
      "text/plain": [
       "   pollution  dew  temp   press  wnd_dir  wnd_spd  snow  rain  hour  \\\n",
       "0      129.0  -16  -4.0  1020.0        0     1.79     0     0     0   \n",
       "1      148.0  -15  -4.0  1020.0        0     2.68     0     0     1   \n",
       "2      159.0  -11  -5.0  1021.0        0     3.57     0     0     2   \n",
       "3      181.0   -7  -5.0  1022.0        0     5.36     1     0     3   \n",
       "4      138.0   -7  -5.0  1022.0        0     6.25     2     0     4   \n",
       "\n",
       "   day_of_week  month  year  \n",
       "0            5      1  2010  \n",
       "1            5      1  2010  \n",
       "2            5      1  2010  \n",
       "3            5      1  2010  \n",
       "4            5      1  2010  "
      ]
     },
     "execution_count": 12,
     "metadata": {},
     "output_type": "execute_result"
    }
   ],
   "source": [
    "data.head()"
   ]
  },
  {
   "cell_type": "markdown",
   "id": "fc5dcc01",
   "metadata": {
    "papermill": {
     "duration": 0.006233,
     "end_time": "2024-12-25T19:10:22.004294",
     "exception": false,
     "start_time": "2024-12-25T19:10:21.998061",
     "status": "completed"
    },
    "tags": []
   },
   "source": [
    "## **Framing the Forecasting Problem:** Converting the time-series data into a supervised learning problem."
   ]
  },
  {
   "cell_type": "code",
   "execution_count": 13,
   "id": "43c5623f",
   "metadata": {
    "execution": {
     "iopub.execute_input": "2024-12-25T19:10:22.017897Z",
     "iopub.status.busy": "2024-12-25T19:10:22.017519Z",
     "iopub.status.idle": "2024-12-25T19:10:50.710305Z",
     "shell.execute_reply": "2024-12-25T19:10:50.709072Z"
    },
    "papermill": {
     "duration": 28.701421,
     "end_time": "2024-12-25T19:10:50.711870",
     "exception": false,
     "start_time": "2024-12-25T19:10:22.010449",
     "status": "completed"
    },
    "tags": []
   },
   "outputs": [
    {
     "name": "stdout",
     "output_type": "stream",
     "text": [
      "X shape: (43788, 12, 11)\n",
      "y shape: (43788,)\n",
      "X_train shape: (35030, 12, 11)\n",
      "y_train shape: (35030,)\n",
      "X_test shape: (8758, 12, 11)\n",
      "y_test shape: (8758,)\n",
      "y_train shape after conversion: (35030,)\n",
      "y_test shape after conversion: (8758,)\n"
     ]
    }
   ],
   "source": [
    "import numpy as np\n",
    "import pandas as pd\n",
    "from sklearn.model_selection import train_test_split\n",
    "from keras.models import Sequential\n",
    "from keras.layers import Bidirectional, LSTM, Dense\n",
    "\n",
    "# Define the number of time steps (e.g., 12 time steps look back)\n",
    "n_steps = 12\n",
    "\n",
    "# Assuming 'data' is your dataframe and 'pollution' is the target\n",
    "def create_supervised_data(data, n_steps):\n",
    "    X, y = [], []\n",
    "    \n",
    "    for i in range(len(data) - n_steps):\n",
    "        X.append(data.iloc[i:i+n_steps].drop(columns=['pollution']).values)\n",
    "        y.append(data.iloc[i+n_steps]['pollution'])\n",
    "    \n",
    "    return np.array(X), np.array(y)\n",
    "\n",
    "# Apply the function to create sequences\n",
    "X, y = create_supervised_data(data, n_steps)\n",
    "\n",
    "# Check shapes\n",
    "print(f'X shape: {X.shape}')\n",
    "print(f'y shape: {y.shape}')\n",
    "\n",
    "# Split into train and test sets (80% training, 20% testing)\n",
    "X_train, X_test, y_train, y_test = train_test_split(X, y, test_size=0.2, shuffle=False)\n",
    "\n",
    "# Check shapes of the split data\n",
    "print(f'X_train shape: {X_train.shape}')\n",
    "print(f'y_train shape: {y_train.shape}')\n",
    "print(f'X_test shape: {X_test.shape}')\n",
    "print(f'y_test shape: {y_test.shape}')\n",
    "\n",
    "# Convert data to float32\n",
    "X_train = X_train.astype(np.float32)\n",
    "y_train = y_train.astype(np.float32)\n",
    "X_test = X_test.astype(np.float32)\n",
    "y_test = y_test.astype(np.float32)\n",
    "\n",
    "# Ensure that y_train and y_test are 1D arrays\n",
    "print(f'y_train shape after conversion: {y_train.shape}')\n",
    "print(f'y_test shape after conversion: {y_test.shape}')"
   ]
  },
  {
   "cell_type": "markdown",
   "id": "8542a172",
   "metadata": {
    "papermill": {
     "duration": 0.005889,
     "end_time": "2024-12-25T19:10:50.724282",
     "exception": false,
     "start_time": "2024-12-25T19:10:50.718393",
     "status": "completed"
    },
    "tags": []
   },
   "source": [
    "## Defining the model"
   ]
  },
  {
   "cell_type": "code",
   "execution_count": 14,
   "id": "54a1ba73",
   "metadata": {
    "execution": {
     "iopub.execute_input": "2024-12-25T19:10:50.737588Z",
     "iopub.status.busy": "2024-12-25T19:10:50.737242Z",
     "iopub.status.idle": "2024-12-25T19:10:50.881347Z",
     "shell.execute_reply": "2024-12-25T19:10:50.880510Z"
    },
    "papermill": {
     "duration": 0.152751,
     "end_time": "2024-12-25T19:10:50.882943",
     "exception": false,
     "start_time": "2024-12-25T19:10:50.730192",
     "status": "completed"
    },
    "tags": []
   },
   "outputs": [
    {
     "name": "stderr",
     "output_type": "stream",
     "text": [
      "/usr/local/lib/python3.10/dist-packages/keras/src/layers/rnn/bidirectional.py:107: UserWarning: Do not pass an `input_shape`/`input_dim` argument to a layer. When using Sequential models, prefer using an `Input(shape)` object as the first layer in the model instead.\n",
      "  super().__init__(**kwargs)\n"
     ]
    },
    {
     "data": {
      "text/html": [
       "<pre style=\"white-space:pre;overflow-x:auto;line-height:normal;font-family:Menlo,'DejaVu Sans Mono',consolas,'Courier New',monospace\"><span style=\"font-weight: bold\">Model: \"sequential\"</span>\n",
       "</pre>\n"
      ],
      "text/plain": [
       "\u001b[1mModel: \"sequential\"\u001b[0m\n"
      ]
     },
     "metadata": {},
     "output_type": "display_data"
    },
    {
     "data": {
      "text/html": [
       "<pre style=\"white-space:pre;overflow-x:auto;line-height:normal;font-family:Menlo,'DejaVu Sans Mono',consolas,'Courier New',monospace\">┏━━━━━━━━━━━━━━━━━━━━━━━━━━━━━━━━━━━━━━┳━━━━━━━━━━━━━━━━━━━━━━━━━━━━━┳━━━━━━━━━━━━━━━━━┓\n",
       "┃<span style=\"font-weight: bold\"> Layer (type)                         </span>┃<span style=\"font-weight: bold\"> Output Shape                </span>┃<span style=\"font-weight: bold\">         Param # </span>┃\n",
       "┡━━━━━━━━━━━━━━━━━━━━━━━━━━━━━━━━━━━━━━╇━━━━━━━━━━━━━━━━━━━━━━━━━━━━━╇━━━━━━━━━━━━━━━━━┩\n",
       "│ bidirectional (<span style=\"color: #0087ff; text-decoration-color: #0087ff\">Bidirectional</span>)        │ (<span style=\"color: #00d7ff; text-decoration-color: #00d7ff\">None</span>, <span style=\"color: #00af00; text-decoration-color: #00af00\">100</span>)                 │          <span style=\"color: #00af00; text-decoration-color: #00af00\">24,800</span> │\n",
       "├──────────────────────────────────────┼─────────────────────────────┼─────────────────┤\n",
       "│ dense (<span style=\"color: #0087ff; text-decoration-color: #0087ff\">Dense</span>)                        │ (<span style=\"color: #00d7ff; text-decoration-color: #00d7ff\">None</span>, <span style=\"color: #00af00; text-decoration-color: #00af00\">1</span>)                   │             <span style=\"color: #00af00; text-decoration-color: #00af00\">101</span> │\n",
       "└──────────────────────────────────────┴─────────────────────────────┴─────────────────┘\n",
       "</pre>\n"
      ],
      "text/plain": [
       "┏━━━━━━━━━━━━━━━━━━━━━━━━━━━━━━━━━━━━━━┳━━━━━━━━━━━━━━━━━━━━━━━━━━━━━┳━━━━━━━━━━━━━━━━━┓\n",
       "┃\u001b[1m \u001b[0m\u001b[1mLayer (type)                        \u001b[0m\u001b[1m \u001b[0m┃\u001b[1m \u001b[0m\u001b[1mOutput Shape               \u001b[0m\u001b[1m \u001b[0m┃\u001b[1m \u001b[0m\u001b[1m        Param #\u001b[0m\u001b[1m \u001b[0m┃\n",
       "┡━━━━━━━━━━━━━━━━━━━━━━━━━━━━━━━━━━━━━━╇━━━━━━━━━━━━━━━━━━━━━━━━━━━━━╇━━━━━━━━━━━━━━━━━┩\n",
       "│ bidirectional (\u001b[38;5;33mBidirectional\u001b[0m)        │ (\u001b[38;5;45mNone\u001b[0m, \u001b[38;5;34m100\u001b[0m)                 │          \u001b[38;5;34m24,800\u001b[0m │\n",
       "├──────────────────────────────────────┼─────────────────────────────┼─────────────────┤\n",
       "│ dense (\u001b[38;5;33mDense\u001b[0m)                        │ (\u001b[38;5;45mNone\u001b[0m, \u001b[38;5;34m1\u001b[0m)                   │             \u001b[38;5;34m101\u001b[0m │\n",
       "└──────────────────────────────────────┴─────────────────────────────┴─────────────────┘\n"
      ]
     },
     "metadata": {},
     "output_type": "display_data"
    },
    {
     "data": {
      "text/html": [
       "<pre style=\"white-space:pre;overflow-x:auto;line-height:normal;font-family:Menlo,'DejaVu Sans Mono',consolas,'Courier New',monospace\"><span style=\"font-weight: bold\"> Total params: </span><span style=\"color: #00af00; text-decoration-color: #00af00\">24,901</span> (97.27 KB)\n",
       "</pre>\n"
      ],
      "text/plain": [
       "\u001b[1m Total params: \u001b[0m\u001b[38;5;34m24,901\u001b[0m (97.27 KB)\n"
      ]
     },
     "metadata": {},
     "output_type": "display_data"
    },
    {
     "data": {
      "text/html": [
       "<pre style=\"white-space:pre;overflow-x:auto;line-height:normal;font-family:Menlo,'DejaVu Sans Mono',consolas,'Courier New',monospace\"><span style=\"font-weight: bold\"> Trainable params: </span><span style=\"color: #00af00; text-decoration-color: #00af00\">24,901</span> (97.27 KB)\n",
       "</pre>\n"
      ],
      "text/plain": [
       "\u001b[1m Trainable params: \u001b[0m\u001b[38;5;34m24,901\u001b[0m (97.27 KB)\n"
      ]
     },
     "metadata": {},
     "output_type": "display_data"
    },
    {
     "data": {
      "text/html": [
       "<pre style=\"white-space:pre;overflow-x:auto;line-height:normal;font-family:Menlo,'DejaVu Sans Mono',consolas,'Courier New',monospace\"><span style=\"font-weight: bold\"> Non-trainable params: </span><span style=\"color: #00af00; text-decoration-color: #00af00\">0</span> (0.00 B)\n",
       "</pre>\n"
      ],
      "text/plain": [
       "\u001b[1m Non-trainable params: \u001b[0m\u001b[38;5;34m0\u001b[0m (0.00 B)\n"
      ]
     },
     "metadata": {},
     "output_type": "display_data"
    }
   ],
   "source": [
    "# Define the BiLSTM model\n",
    "model = Sequential()\n",
    "\n",
    "# Adding BiLSTM layer with 50 units\n",
    "model.add(Bidirectional(LSTM(50, activation='relu'), input_shape=(12, X_train.shape[2])))  # Match input shape with X_train\n",
    "\n",
    "# Adding output layer (1 unit for predicting pollution)\n",
    "model.add(Dense(1))\n",
    "\n",
    "# Compile the model\n",
    "model.compile(optimizer='adam', loss='mean_squared_error')\n",
    "\n",
    "# Print model summary\n",
    "model.summary()"
   ]
  },
  {
   "cell_type": "markdown",
   "id": "3f48f3fb",
   "metadata": {
    "papermill": {
     "duration": 0.006597,
     "end_time": "2024-12-25T19:10:50.896619",
     "exception": false,
     "start_time": "2024-12-25T19:10:50.890022",
     "status": "completed"
    },
    "tags": []
   },
   "source": [
    "## Training the model"
   ]
  },
  {
   "cell_type": "code",
   "execution_count": 15,
   "id": "2ccc25c3",
   "metadata": {
    "execution": {
     "iopub.execute_input": "2024-12-25T19:10:50.911120Z",
     "iopub.status.busy": "2024-12-25T19:10:50.910803Z",
     "iopub.status.idle": "2024-12-25T19:12:07.171083Z",
     "shell.execute_reply": "2024-12-25T19:12:07.169994Z"
    },
    "papermill": {
     "duration": 76.269457,
     "end_time": "2024-12-25T19:12:07.172760",
     "exception": false,
     "start_time": "2024-12-25T19:10:50.903303",
     "status": "completed"
    },
    "tags": []
   },
   "outputs": [
    {
     "name": "stdout",
     "output_type": "stream",
     "text": [
      "Epoch 1/10\n",
      "\u001b[1m1095/1095\u001b[0m \u001b[32m━━━━━━━━━━━━━━━━━━━━\u001b[0m\u001b[37m\u001b[0m \u001b[1m10s\u001b[0m 7ms/step - loss: 8113.3198 - val_loss: 7715.6855\n",
      "Epoch 2/10\n",
      "\u001b[1m1095/1095\u001b[0m \u001b[32m━━━━━━━━━━━━━━━━━━━━\u001b[0m\u001b[37m\u001b[0m \u001b[1m7s\u001b[0m 7ms/step - loss: 7173.7212 - val_loss: 7124.1523\n",
      "Epoch 3/10\n",
      "\u001b[1m1095/1095\u001b[0m \u001b[32m━━━━━━━━━━━━━━━━━━━━\u001b[0m\u001b[37m\u001b[0m \u001b[1m7s\u001b[0m 7ms/step - loss: 7174.8628 - val_loss: 7186.2212\n",
      "Epoch 4/10\n",
      "\u001b[1m1095/1095\u001b[0m \u001b[32m━━━━━━━━━━━━━━━━━━━━\u001b[0m\u001b[37m\u001b[0m \u001b[1m8s\u001b[0m 7ms/step - loss: 6610.5049 - val_loss: 6244.5190\n",
      "Epoch 5/10\n",
      "\u001b[1m1095/1095\u001b[0m \u001b[32m━━━━━━━━━━━━━━━━━━━━\u001b[0m\u001b[37m\u001b[0m \u001b[1m7s\u001b[0m 7ms/step - loss: 6172.0483 - val_loss: 6374.9863\n",
      "Epoch 6/10\n",
      "\u001b[1m1095/1095\u001b[0m \u001b[32m━━━━━━━━━━━━━━━━━━━━\u001b[0m\u001b[37m\u001b[0m \u001b[1m7s\u001b[0m 7ms/step - loss: 6372.2515 - val_loss: 6320.9009\n",
      "Epoch 7/10\n",
      "\u001b[1m1095/1095\u001b[0m \u001b[32m━━━━━━━━━━━━━━━━━━━━\u001b[0m\u001b[37m\u001b[0m \u001b[1m7s\u001b[0m 7ms/step - loss: 5775.6709 - val_loss: 5866.4150\n",
      "Epoch 8/10\n",
      "\u001b[1m1095/1095\u001b[0m \u001b[32m━━━━━━━━━━━━━━━━━━━━\u001b[0m\u001b[37m\u001b[0m \u001b[1m8s\u001b[0m 7ms/step - loss: 5820.9233 - val_loss: 6009.3301\n",
      "Epoch 9/10\n",
      "\u001b[1m1095/1095\u001b[0m \u001b[32m━━━━━━━━━━━━━━━━━━━━\u001b[0m\u001b[37m\u001b[0m \u001b[1m7s\u001b[0m 7ms/step - loss: 5418.5352 - val_loss: 5828.4761\n",
      "Epoch 10/10\n",
      "\u001b[1m1095/1095\u001b[0m \u001b[32m━━━━━━━━━━━━━━━━━━━━\u001b[0m\u001b[37m\u001b[0m \u001b[1m7s\u001b[0m 7ms/step - loss: 5465.8491 - val_loss: 5673.0015\n"
     ]
    },
    {
     "data": {
      "text/plain": [
       "<keras.src.callbacks.history.History at 0x7a26c332fca0>"
      ]
     },
     "execution_count": 15,
     "metadata": {},
     "output_type": "execute_result"
    }
   ],
   "source": [
    "# Train the model\n",
    "model.fit(X_train, y_train, epochs=10, batch_size=32, validation_data=(X_test, y_test), verbose=1)"
   ]
  },
  {
   "cell_type": "code",
   "execution_count": 16,
   "id": "84712b6c",
   "metadata": {
    "execution": {
     "iopub.execute_input": "2024-12-25T19:12:07.323406Z",
     "iopub.status.busy": "2024-12-25T19:12:07.323004Z",
     "iopub.status.idle": "2024-12-25T19:12:08.888115Z",
     "shell.execute_reply": "2024-12-25T19:12:08.887049Z"
    },
    "papermill": {
     "duration": 1.642422,
     "end_time": "2024-12-25T19:12:08.890141",
     "exception": false,
     "start_time": "2024-12-25T19:12:07.247719",
     "status": "completed"
    },
    "tags": []
   },
   "outputs": [
    {
     "name": "stdout",
     "output_type": "stream",
     "text": [
      "\u001b[1m274/274\u001b[0m \u001b[32m━━━━━━━━━━━━━━━━━━━━\u001b[0m\u001b[37m\u001b[0m \u001b[1m1s\u001b[0m 4ms/step\n"
     ]
    }
   ],
   "source": [
    "y_pred = model.predict(X_test)"
   ]
  },
  {
   "cell_type": "code",
   "execution_count": 17,
   "id": "43a65e37",
   "metadata": {
    "execution": {
     "iopub.execute_input": "2024-12-25T19:12:09.041449Z",
     "iopub.status.busy": "2024-12-25T19:12:09.041067Z",
     "iopub.status.idle": "2024-12-25T19:12:09.415510Z",
     "shell.execute_reply": "2024-12-25T19:12:09.414472Z"
    },
    "papermill": {
     "duration": 0.452071,
     "end_time": "2024-12-25T19:12:09.417810",
     "exception": false,
     "start_time": "2024-12-25T19:12:08.965739",
     "status": "completed"
    },
    "tags": []
   },
   "outputs": [
    {
     "data": {
      "image/png": "[encoded data removed]",
      "text/plain": [
       "<Figure size 1000x600 with 1 Axes>"
      ]
     },
     "metadata": {},
     "output_type": "display_data"
    }
   ],
   "source": [
    "# Plot the true vs predicted values with transparency\n",
    "plt.figure(figsize=(10, 6))\n",
    "plt.plot(y_test, label='True Values', color='blue', alpha=0.5)\n",
    "plt.plot(y_pred, label='Predicted Values', color='red', alpha=0.5)\n",
    "\n",
    "plt.title('True vs Predicted Pollution Values')\n",
    "plt.xlabel('Time Steps')\n",
    "plt.ylabel('Pollution')\n",
    "plt.legend()\n",
    "plt.show()"
   ]
  },
  {
   "cell_type": "code",
   "execution_count": null,
   "id": "d91b8042",
   "metadata": {
    "papermill": {
     "duration": 0.078069,
     "end_time": "2024-12-25T19:12:09.575972",
     "exception": false,
     "start_time": "2024-12-25T19:12:09.497903",
     "status": "completed"
    },
    "tags": []
   },
   "outputs": [],
   "source": []
  }
 ],
 "metadata": {
  "kaggle": {
   "accelerator": "none",
   "dataSources": [
    {
     "datasetId": 1870816,
     "sourceId": 3068590,
     "sourceType": "datasetVersion"
    }
   ],
   "dockerImageVersionId": 30822,
   "isGpuEnabled": false,
   "isInternetEnabled": true,
   "language": "python",
   "sourceType": "notebook"
  },
  "kernelspec": {
   "display_name": "Python 3",
   "language": "python",
   "name": "python3"
  },
  "language_info": {
   "codemirror_mode": {
    "name": "ipython",
    "version": 3
   },
   "file_extension": ".py",
   "mimetype": "text/x-python",
   "name": "python",
   "nbconvert_exporter": "python",
   "pygments_lexer": "ipython3",
   "version": "3.10.12"
  },
  "papermill": {
   "default_parameters": {},
   "duration": 124.461068,
   "end_time": "2024-12-25T19:12:11.278314",
   "environment_variables": {},
   "exception": null,
   "input_path": "__notebook__.ipynb",
   "output_path": "__notebook__.ipynb",
   "parameters": {},
   "start_time": "2024-12-25T19:10:06.817246",
   "version": "2.6.0"
  }
 },
 "nbformat": 4,
 "nbformat_minor": 5
}
